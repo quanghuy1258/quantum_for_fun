{
 "cells": [
  {
   "cell_type": "code",
   "execution_count": null,
   "id": "9e326cf3",
   "metadata": {},
   "outputs": [],
   "source": [
    "%pip install qnexus guppylang"
   ]
  },
  {
   "cell_type": "code",
   "execution_count": 1,
   "id": "c18f555c",
   "metadata": {},
   "outputs": [],
   "source": [
    "from datetime import datetime\n",
    "\n",
    "\n",
    "from guppylang.decorator import guppy\n",
    "from guppylang.std.quantum import h, cx, measure, discard_array, qubit\n",
    "from guppylang.std.builtins import array, result, py\n",
    "from guppylang.emulator.result import EmulatorResult"
   ]
  },
  {
   "cell_type": "markdown",
   "id": "f1dc4b6a",
   "metadata": {},
   "source": [
    "# QEC: flagged Steane state preparation\n",
    "\n",
    "We will implement the following circuit in Guppy:\n",
    "\n",
    "[comment]: <img src=\"circ.png\" width=\"500\"/> "
   ]
  },
  {
   "cell_type": "code",
   "execution_count": 2,
   "id": "a444b850",
   "metadata": {},
   "outputs": [],
   "source": [
    "\"\"\"Steane code implementation in Guppy.\n",
    "Based on https://arxiv.org/abs/2107.07505.\n",
    "\"\"\"\n",
    "\n",
    "\n",
    "SEED = 42\n",
    "N_SHOTS = 1000\n",
    "N_QUBITS = 8\n",
    "\n",
    "\n",
    "@guppy.struct\n",
    "class SteaneQ:\n",
    "    data_qs: array[qubit, 7] # type: ignore\n",
    "\n",
    "\n",
    "@guppy\n",
    "def non_ft_zero() -> SteaneQ:\n",
    "    \"\"\"Non-fault-tolerant preparation of |0>_L in the Steane code.\"\"\"\n",
    "    data_qubits = array(qubit() for _ in range(7)) # type: ignore\n",
    "    plus_ids = array(0, 4, 6)\n",
    "    for i in plus_ids:\n",
    "        h(data_qubits[i])\n",
    "\n",
    "    cx_pairs = array((0, 1), (4, 5), (6, 3), (6, 5), (4, 2), (0, 3), (4, 1), (3, 2))\n",
    "    for c, t in cx_pairs:\n",
    "        cx(data_qubits[c], data_qubits[t])\n",
    "    return SteaneQ(data_qubits)\n",
    "\n",
    "\n",
    "@guppy\n",
    "def flagged_ft_zero() -> tuple[SteaneQ, bool]:\n",
    "    \"\"\"Fault-tolerant preparation of |0>_L in the Steane code,\n",
    "    with flag qubits to detect errors.\n",
    "    Returns the prepared logical qubit and a flag indicating if an error was detected.\n",
    "    \"\"\"\n",
    "    q = non_ft_zero()\n",
    "    ancilla = qubit() # type: ignore\n",
    "    flags = array(1, 3, 5)\n",
    "    for f in flags:\n",
    "        cx(q.data_qs[f], ancilla)\n",
    "    return q, measure(ancilla)\n",
    "\n",
    " \n",
    "MAX_ATTEMPTS = 1000\n",
    "\n",
    "@guppy\n",
    "def count_attempts() -> None:\n",
    "    \"\"\"Attempt fault-tolerant zero preparation multiple times,\n",
    "    until success or the maximum number of attempts is reached.\n",
    "    \"\"\"\n",
    "    \n",
    "    for attempt in range(py(MAX_ATTEMPTS)):\n",
    "        q, failed = flagged_ft_zero()\n",
    "        discard_array(q.data_qs)\n",
    "        if not failed:\n",
    "            result(\"attempt\", attempt)\n",
    "            break\n",
    "\n",
    "\n",
    "count_attempts.check()"
   ]
  },
  {
   "cell_type": "code",
   "execution_count": 3,
   "id": "a540c80d",
   "metadata": {},
   "outputs": [],
   "source": [
    "def mean_attempts(res: EmulatorResult) -> None:\n",
    "    \"\"\"Utility function to compute and print the mean number of attempts\"\"\"\n",
    "    mean = sum(shot.as_dict()[\"attempt\"] + 1 for shot in res)/len(res) # type: ignore\n",
    "    print(f\"Mean attempts: {mean}\")\n"
   ]
  },
  {
   "cell_type": "markdown",
   "id": "79ba165d",
   "metadata": {},
   "source": [
    "## Create a new Nexus project"
   ]
  },
  {
   "cell_type": "code",
   "execution_count": null,
   "id": "0952acea",
   "metadata": {},
   "outputs": [],
   "source": [
    "import qnexus as qnx\n",
    "from quantinuum_schemas.models.emulator_config import QSystemErrorModel\n",
    "\n",
    "my_project_ref = qnx.projects.get_or_create(name=\"Selene-Nexus\")\n",
    "qnx.context.set_active_project(my_project_ref)"
   ]
  },
  {
   "cell_type": "markdown",
   "id": "42b59634",
   "metadata": {},
   "source": [
    "## Configure the Nexus emulator and submit job\n",
    "\n",
    "Run our experiment remotely on Nexus, emulating the real quantum hardware."
   ]
  },
  {
   "cell_type": "code",
   "execution_count": null,
   "id": "a247498b",
   "metadata": {},
   "outputs": [],
   "source": [
    "# Upload our program to Nexus\n",
    "program_ref = qnx.hugr.upload(\n",
    "    hugr_package=count_attempts.compile(),\n",
    "    name=\"steane_code_attempts\",\n",
    ")\n",
    "\n",
    "# Define our Selene configuration\n",
    "config = qnx.models.StandardEmulatorConfig(\n",
    "    n_qubits=N_QUBITS,\n",
    "    runtime=qnx.models.HeliosRuntime(seed=SEED),\n",
    "    # DEMO QSystemErrorModel - not representative of actual hardware at launch\n",
    "    error_model=QSystemErrorModel(seed=SEED),\n",
    "    simulator=qnx.models.StabilizerSimulator(seed=SEED)\n",
    " )\n",
    "\n",
    "# Start the job on Nexus\n",
    "selene_quest_job_ref = qnx.start_execute_job(\n",
    "    programs=[program_ref],\n",
    "    n_shots=[N_SHOTS],\n",
    "    backend_config=config,\n",
    "    name=f\"steane_code_attempts {datetime.now()}\",\n",
    ")"
   ]
  },
  {
   "cell_type": "markdown",
   "id": "de17f371",
   "metadata": {},
   "source": [
    "## Run emulation locally\n",
    "\n",
    "First run with no errors, state preparation should succeed in 1 attempt on average."
   ]
  },
  {
   "cell_type": "code",
   "execution_count": 4,
   "id": "9850ce9f",
   "metadata": {},
   "outputs": [
    {
     "name": "stderr",
     "output_type": "stream",
     "text": [
      "Emulating shots: 100%|███████████████████████████████████████████████████████████| 1000/1000 [00:00<00:00, 3841.59it/s]"
     ]
    },
    {
     "name": "stdout",
     "output_type": "stream",
     "text": [
      "Mean attempts: 1.0\n"
     ]
    },
    {
     "name": "stderr",
     "output_type": "stream",
     "text": [
      "\n"
     ]
    }
   ],
   "source": [
    "emulator = (\n",
    "    count_attempts\n",
    "    .emulator(n_qubits=N_QUBITS)\n",
    "    .stabilizer_sim()\n",
    "    .with_seed(SEED)\n",
    "    .with_shots(N_SHOTS)\n",
    "    .with_progress_bar()\n",
    ")\n",
    "\n",
    "mean_attempts(emulator.run())"
   ]
  },
  {
   "cell_type": "markdown",
   "id": "c8ed5ccf",
   "metadata": {},
   "source": [
    "Let's emulate with a simple depolarizing noise model, now we should detect some failures and the mean attempts should be higher."
   ]
  },
  {
   "cell_type": "code",
   "execution_count": 5,
   "id": "2af1b11a",
   "metadata": {},
   "outputs": [
    {
     "name": "stderr",
     "output_type": "stream",
     "text": [
      "Emulating shots: 100%|███████████████████████████████████████████████████████████| 1000/1000 [00:00<00:00, 7122.57it/s]"
     ]
    },
    {
     "name": "stdout",
     "output_type": "stream",
     "text": [
      "Mean attempts: 1.04\n"
     ]
    },
    {
     "name": "stderr",
     "output_type": "stream",
     "text": [
      "\n"
     ]
    }
   ],
   "source": [
    "from selene_sim.backends.bundled_error_models import DepolarizingErrorModel\n",
    "error_model = DepolarizingErrorModel(\n",
    "    # single qubit gate error rate\n",
    "    p_1q=1e-3,\n",
    "    # two qubit gate error rate\n",
    "    p_2q=2e-3,\n",
    ")\n",
    "\n",
    "mean_attempts(emulator.with_error_model(error_model).run())"
   ]
  },
  {
   "cell_type": "markdown",
   "id": "b050b9fa",
   "metadata": {},
   "source": [
    "## Retrieve results from Nexus\n",
    "\n",
    "Since we are emulating the device we can expect some retries."
   ]
  },
  {
   "cell_type": "code",
   "execution_count": null,
   "id": "04af7815",
   "metadata": {},
   "outputs": [],
   "source": [
    "qnx.jobs.wait_for(selene_quest_job_ref)\n",
    "\n",
    "nexus_result = qnx.jobs.results(selene_quest_job_ref)[0].download_result()\n",
    "mean_attempts(nexus_result) # type: ignore"
   ]
  }
 ],
 "metadata": {
  "kernelspec": {
   "display_name": "Python 3 (ipykernel)",
   "language": "python",
   "name": "python3"
  },
  "language_info": {
   "codemirror_mode": {
    "name": "ipython",
    "version": 3
   },
   "file_extension": ".py",
   "mimetype": "text/x-python",
   "name": "python",
   "nbconvert_exporter": "python",
   "pygments_lexer": "ipython3",
   "version": "3.12.4"
  }
 },
 "nbformat": 4,
 "nbformat_minor": 5
}
