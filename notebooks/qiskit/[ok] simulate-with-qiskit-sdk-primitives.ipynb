{
 "cells": [
  {
   "cell_type": "markdown",
   "metadata": {},
   "source": [
    "# Exact simulation with Qiskit SDK primitives\n",
    "\n"
   ]
  },
  {
   "cell_type": "markdown",
   "metadata": {
    "tags": [
     "version-info"
    ]
   },
   "source": [
    "<details>\n",
    "  <summary><b>Package versions</b></summary>\n",
    "\n",
    "  The code on this page was developed using the following requirements.\n",
    "  We recommend using these versions or newer.\n",
    "\n",
    "  ```\n",
    "  qiskit[all]~=2.1.1\n",
    "  ```\n",
    "</details>\n",
    "\n"
   ]
  },
  {
   "cell_type": "markdown",
   "metadata": {},
   "source": [
    "The reference primitives in the Qiskit SDK perform local statevector simulations. These simulations do not support\n",
    "modeling device noise, but are useful for quickly prototyping algorithms before looking into more advanced simulation\n",
    "techniques ([using Qiskit Aer](./simulate-stabilizer-circuits)) or running on real devices ([Qiskit Runtime primitives](primitives)).\n",
    "\n",
    "The Estimator primitive can compute expectation values of circuits, and the Sampler primitive can sample\n",
    "from output distributions of circuits.\n",
    "\n",
    "The following sections show how to use the reference primitives to run your workflow locally.\n",
    "\n",
    "## Use the reference Estimator\n",
    "\n",
    "The reference implementation of `EstimatorV2` in `qiskit.primitives` that runs on a local statevector\n",
    "simulators is the [`StatevectorEstimator`](../api/qiskit/qiskit.primitives.StatevectorEstimator) class. It can take circuits, observables, and parameters as inputs and returns the locally computed expectation values.\n",
    "\n",
    "The following code prepares the inputs that will be used in the examples that follow. The expected input type for the\n",
    "observables is [`qiskit.quantum_info.SparsePauliOp`](../api/qiskit/qiskit.quantum_info.SparsePauliOp). Note that\n",
    "the circuit in the example is parametrized, but you can also run the Estimator on non-parametrized circuits.\n",
    "\n",
    "<Admonition type=\"note\">\n",
    "  Any circuit passed to an Estimator must **not** include any **measurements**.\n",
    "</Admonition>\n",
    "\n"
   ]
  },
  {
   "cell_type": "code",
   "execution_count": 1,
   "metadata": {},
   "outputs": [
    {
     "data": {
      "image/png": "[encoded data removed]",
      "text/plain": [
       "<Figure size 370.906x200.667 with 1 Axes>"
      ]
     },
     "execution_count": 1,
     "metadata": {},
     "output_type": "execute_result"
    }
   ],
   "source": [
    "from qiskit import QuantumCircuit\n",
    "from qiskit.circuit import Parameter\n",
    "\n",
    "# circuit for which you want to obtain the expected value\n",
    "circuit = QuantumCircuit(2)\n",
    "circuit.ry(Parameter(\"theta\"), 0)\n",
    "circuit.h(0)\n",
    "circuit.cx(0, 1)\n",
    "circuit.draw(\"mpl\", style=\"iqp\")"
   ]
  },
  {
   "cell_type": "code",
   "execution_count": 2,
   "metadata": {},
   "outputs": [],
   "source": [
    "from qiskit.quantum_info import SparsePauliOp\n",
    "import numpy as np\n",
    "\n",
    "# observable(s) whose expected values you want to compute\n",
    "\n",
    "observable = SparsePauliOp([\"II\", \"XX\", \"YY\", \"ZZ\"], coeffs=[1, 1, -1, 1])\n",
    "\n",
    "# value(s) for the circuit parameter(s)\n",
    "parameter_values = [[0], [np.pi / 6], [np.pi / 2]]"
   ]
  },
  {
   "cell_type": "markdown",
   "metadata": {},
   "source": [
    "<Admonition type=\"tip\" title=\"Transpile to ISA circuits and observables\">\n",
    "  The Qiskit Runtime primitives workflow requires circuits and observables to be transformed to only use instructions supported by the QPU (referred to as *instruction set architecture (ISA)* circuits and observables). The reference primitives still accept abstract instructions, as they rely on local statevector simulations, but transpiling the circuit might still be beneficial in terms of circuit optimization.\n",
    "\n",
    "  ```python\n",
    "  # Generate a pass manager without providing a backend\n",
    "  from qiskit.transpiler import generate_preset_pass_manager\n",
    "\n",
    "  pm = generate_preset_pass_manager(optimization_level=1)\n",
    "  isa_circuit = pm.run(circuit)\n",
    "  isa_observable = observable.apply_layout(isa_circuit.layout)\n",
    "  ```\n",
    "</Admonition>\n",
    "\n",
    "### Initialize Estimator\n",
    "\n",
    "Instantiate a [`qiskit.primitives.StatevectorEstimator`](../api/qiskit/qiskit.primitives.StatevectorEstimator).\n",
    "\n"
   ]
  },
  {
   "cell_type": "code",
   "execution_count": 3,
   "metadata": {},
   "outputs": [],
   "source": [
    "from qiskit.primitives import StatevectorEstimator\n",
    "\n",
    "estimator = StatevectorEstimator()"
   ]
  },
  {
   "cell_type": "markdown",
   "metadata": {},
   "source": [
    "### Run and get results\n",
    "\n",
    "This example only uses one circuit (of type [`QuantumCircuit`](../api/qiskit/qiskit.circuit.QuantumCircuit)) and one\n",
    "observable.\n",
    "\n",
    "Run the estimation by calling the [`StatevectorEstimator.run`](../api/qiskit/qiskit.primitives.StatevectorEstimator#run) method, which returns an instance of a [`PrimitiveJob`](/docs/api/qiskit/qiskit.primitives.PrimitiveJob) object. You can get the results from the job (as a [`qiskit.primitives.PrimitiveResult`](../api/qiskit/qiskit.primitives.PrimitiveResult) object)\n",
    "with the [`qiskit.primitives.PrimitiveJob.result`](../api/qiskit/qiskit.primitives.PrimitiveJob#result) method.\n",
    "\n"
   ]
  },
  {
   "cell_type": "code",
   "execution_count": 4,
   "metadata": {},
   "outputs": [
    {
     "name": "stdout",
     "output_type": "stream",
     "text": [
      " > Result class: <class 'qiskit.primitives.containers.primitive_result.PrimitiveResult'>\n"
     ]
    }
   ],
   "source": [
    "job = estimator.run([(circuit, observable, parameter_values)])\n",
    "result = job.result()\n",
    "print(f\" > Result class: {type(result)}\")"
   ]
  },
  {
   "cell_type": "markdown",
   "metadata": {},
   "source": [
    "#### Get the expected value from the result\n",
    "\n",
    "The primitives result outputs an array of [`PubResult`s](/docs/api/qiskit/qiskit.primitives.PubResult#pubresult), where each item of the array is a `PubResult` object that contains in its data the array of evaluations corresponding to every circuit-observable combination in the PUB.\n",
    "\n",
    "To retrieve the expectation values and metadata for the first (and in this case, only) circuit evaluation, we must access the evaluation [`data`](/docs/api/qiskit/qiskit.primitives.PubResult#data) for PUB 0:\n",
    "\n"
   ]
  },
  {
   "cell_type": "code",
   "execution_count": 5,
   "metadata": {},
   "outputs": [
    {
     "name": "stdout",
     "output_type": "stream",
     "text": [
      " > Expectation value: [4.         3.73205081 2.        ]\n",
      " > Metadata: {'target_precision': 0.0, 'circuit_metadata': {}}\n"
     ]
    }
   ],
   "source": [
    "print(f\" > Expectation value: {result[0].data.evs}\")\n",
    "print(f\" > Metadata: {result[0].metadata}\")"
   ]
  },
  {
   "cell_type": "markdown",
   "metadata": {},
   "source": [
    "### Set Estimator run options\n",
    "\n",
    "By default, the reference Estimator performs an exact statevector calculation based on the\n",
    "[`quantum_info.Statevector`](../api/qiskit/qiskit.quantum_info.Statevector) class.\n",
    "However, this can be modified to introduce the effect of the sampling overhead (also known as \"shot noise\").\n",
    "\n",
    "Estimator accepts a `precision` argument that expresses the error bars that the\n",
    "primitive implementation should target for expectation values estimates.  This is the sampling overhead and is defined exclusively in the `.run()` method. This  lets you fine-tune the option all the way to the PUB level.\n",
    "\n"
   ]
  },
  {
   "cell_type": "code",
   "execution_count": 6,
   "metadata": {},
   "outputs": [],
   "source": [
    "# Estimate expectation values for two PUBs, both with 0.05 precision.\n",
    "precise_job = estimator.run(\n",
    "    [(circuit, observable, parameter_values)], precision=0.05\n",
    ")"
   ]
  },
  {
   "cell_type": "markdown",
   "metadata": {},
   "source": [
    "For a full example, see the [Primitives examples](primitives-examples#estimator-examples) page.\n",
    "\n",
    "## Use the reference Sampler\n",
    "\n",
    "The reference implementations of `SamplerV2` in `qiskit.primitives` is the [`StatevectorSampler`](../api/qiskit/qiskit.primitives.StatevectorSampler) class. It takes circuits and parameters as inputs and returns the results from sampling from the output probability distributions as a quasi-probability distribution of output states.\n",
    "\n",
    "The following code prepares the inputs used in the examples that follow. Note that\n",
    "these examples run a single parametrized circuit, but you can also run the Sampler\n",
    "on non-parametrized circuits.\n",
    "\n"
   ]
  },
  {
   "cell_type": "code",
   "execution_count": 7,
   "metadata": {},
   "outputs": [
    {
     "data": {
      "image/png": "[encoded data removed]",
      "text/plain": [
       "<Figure size 580.387x284.278 with 1 Axes>"
      ]
     },
     "execution_count": 7,
     "metadata": {},
     "output_type": "execute_result"
    }
   ],
   "source": [
    "from qiskit import QuantumCircuit\n",
    "\n",
    "circuit = QuantumCircuit(2)\n",
    "circuit.h(0)\n",
    "circuit.cx(0, 1)\n",
    "circuit.measure_all()\n",
    "circuit.draw(\"mpl\", style=\"iqp\")"
   ]
  },
  {
   "cell_type": "markdown",
   "metadata": {},
   "source": [
    "<Admonition type=\"note\">\n",
    "  Any quantum circuit passed to a Sampler **must** include measurements.\n",
    "</Admonition>\n",
    "\n",
    "<Admonition type=\"tip\" title=\"Transpile to ISA circuits and observables\">\n",
    "  The Qiskit Runtime primitives workflow requires circuits to be transformed to only use instructions supported by the QPU (referred to as ISA circuits). The reference primitives still accept abstract instructions, as they rely on local statevector simulations, but transpiling the circuit might still be beneficial in terms of circuit optimization.\n",
    "\n",
    "  ```python\n",
    "  # Generate a pass manager without providing a backend\n",
    "  from qiskit.transpiler import generate_preset_pass_manager\n",
    "\n",
    "  pm = generate_preset_pass_manager(optimization_level=1)\n",
    "  isa_circuit = pm.run(qc)\n",
    "  ```\n",
    "</Admonition>\n",
    "\n",
    "### Initialize `SamplerV2`\n",
    "\n",
    "Instantiate [`qiskit.primitives.StatevectorSampler`](../api/qiskit/qiskit.primitives.StatevectorSampler):\n",
    "\n"
   ]
  },
  {
   "cell_type": "code",
   "execution_count": 8,
   "metadata": {},
   "outputs": [],
   "source": [
    "from qiskit.primitives import StatevectorSampler\n",
    "\n",
    "sampler = StatevectorSampler()"
   ]
  },
  {
   "cell_type": "markdown",
   "metadata": {},
   "source": [
    "### Run and get results\n",
    "\n"
   ]
  },
  {
   "cell_type": "code",
   "execution_count": 9,
   "metadata": {},
   "outputs": [
    {
     "name": "stdout",
     "output_type": "stream",
     "text": [
      " > Result class: <class 'qiskit.primitives.containers.sampler_pub_result.SamplerPubResult'>\n"
     ]
    }
   ],
   "source": [
    "# execute 1 circuit with Sampler\n",
    "job = sampler.run([circuit])\n",
    "pub_result = job.result()[0]\n",
    "print(f\" > Result class: {type(pub_result)}\")"
   ]
  },
  {
   "cell_type": "markdown",
   "metadata": {},
   "source": [
    "Primitives accept multiple PUBs as inputs, and each PUB gets its own result. Therefore, you can run different circuits with various parameter/observable combinations, and retrieve the PUB results:\n",
    "\n"
   ]
  },
  {
   "cell_type": "code",
   "execution_count": 10,
   "metadata": {},
   "outputs": [
    {
     "name": "stdout",
     "output_type": "stream",
     "text": [
      " > Result class: <class 'qiskit.primitives.containers.sampler_pub_result.SamplerPubResult'>\n"
     ]
    }
   ],
   "source": [
    "from qiskit.transpiler import generate_preset_pass_manager\n",
    "\n",
    "# create two circuits\n",
    "circuit1 = circuit.copy()\n",
    "circuit2 = circuit.copy()\n",
    "\n",
    "# transpile circuits\n",
    "pm = generate_preset_pass_manager(optimization_level=1)\n",
    "isa_circuit1 = pm.run(circuit1)\n",
    "isa_circuit2 = pm.run(circuit2)\n",
    "# execute 2 circuits using Sampler\n",
    "job = sampler.run([(isa_circuit1), (isa_circuit2)])\n",
    "pub_result_1 = job.result()[0]\n",
    "pub_result_2 = job.result()[1]\n",
    "print(f\" > Result class: {type(pub_result)}\")"
   ]
  },
  {
   "cell_type": "markdown",
   "metadata": {},
   "source": [
    "### Get the probability distribution or measurement outcome\n",
    "\n",
    "Measurement outcome samples are returned as **bitstrings** or **counts**. The bitstrings show the measurement outcomes, preserving the shot order in which they were measured. The Sampler result objects organize data in terms of their input circuits' classical register names, for compatibility with dynamic circuits.\n",
    "\n",
    "<Admonition>\n",
    "  The name of the classical register defaults to `\"meas\"`. This name will be used later to access the measurement bitstrings.\n",
    "</Admonition>\n",
    "\n"
   ]
  },
  {
   "cell_type": "code",
   "execution_count": 11,
   "metadata": {},
   "outputs": [
    {
     "data": {
      "text/html": [
       "<pre style=\"word-wrap: normal;white-space: pre;background: #fff0;line-height: 1.1;font-family: &quot;Courier New&quot;,Courier,monospace\">        ┌───┐      ░ ┌─┐   \n",
       "   q_0: ┤ H ├──■───░─┤M├───\n",
       "        └───┘┌─┴─┐ ░ └╥┘┌─┐\n",
       "   q_1: ─────┤ X ├─░──╫─┤M├\n",
       "             └───┘ ░  ║ └╥┘\n",
       "meas: 2/══════════════╩══╩═\n",
       "                      0  1 </pre>"
      ],
      "text/plain": [
       "        ┌───┐      ░ ┌─┐   \n",
       "   q_0: ┤ H ├──■───░─┤M├───\n",
       "        └───┘┌─┴─┐ ░ └╥┘┌─┐\n",
       "   q_1: ─────┤ X ├─░──╫─┤M├\n",
       "             └───┘ ░  ║ └╥┘\n",
       "meas: 2/══════════════╩══╩═\n",
       "                      0  1 "
      ]
     },
     "execution_count": 11,
     "metadata": {},
     "output_type": "execute_result"
    }
   ],
   "source": [
    "# Define quantum circuit with 2 qubits\n",
    "circuit = QuantumCircuit(2)\n",
    "circuit.h(0)\n",
    "circuit.cx(0, 1)\n",
    "circuit.measure_all()\n",
    "circuit.draw()"
   ]
  },
  {
   "cell_type": "code",
   "execution_count": 12,
   "metadata": {},
   "outputs": [
    {
     "name": "stdout",
     "output_type": "stream",
     "text": [
      "The number of bitstrings is: 1024\n",
      "The counts are: {'00': 534, '11': 490}\n"
     ]
    }
   ],
   "source": [
    "# Transpile circuit\n",
    "pm = generate_preset_pass_manager(optimization_level=1)\n",
    "isa_circuit = pm.run(circuit)\n",
    "# Run using sampler\n",
    "result = sampler.run([circuit]).result()\n",
    "# Access result data for PUB 0\n",
    "data_pub = result[0].data\n",
    "# Access bitstring for the classical register \"meas\"\n",
    "bitstrings = data_pub.meas.get_bitstrings()\n",
    "print(f\"The number of bitstrings is: {len(bitstrings)}\")\n",
    "# Get counts for the classical register \"meas\"\n",
    "counts = data_pub.meas.get_counts()\n",
    "print(f\"The counts are: {counts}\")"
   ]
  },
  {
   "cell_type": "markdown",
   "metadata": {},
   "source": [
    "### Change run options\n",
    "\n",
    "By default, the reference Sampler performs an exact statevector calculation based on the\n",
    "[`quantum_info.Statevector`](../api/qiskit/qiskit.quantum_info.Statevector) class.\n",
    "However, this can be modified to introduce the effect of the sampling overhead (also known as \"shot noise\"). To help manage this overhead, the Sampler interface accepts a `shots` argument that can be defined at the PUB level.\n",
    "\n",
    "This example assumes you have defined two circuits.\n",
    "\n"
   ]
  },
  {
   "cell_type": "code",
   "execution_count": 13,
   "metadata": {},
   "outputs": [
    {
     "data": {
      "text/plain": [
       "<qiskit.primitives.primitive_job.PrimitiveJob at 0x2126dac5be0>"
      ]
     },
     "execution_count": 13,
     "metadata": {},
     "output_type": "execute_result"
    }
   ],
   "source": [
    "# Sample two circuits at 128 shots each.\n",
    "sampler.run([isa_circuit1, isa_circuit2], shots=128)\n",
    "# Sample two circuits at different amounts of shots. The \"None\"s are necessary\n",
    "# as placeholders\n",
    "# for the lack of parameter values in this example.\n",
    "sampler.run([(isa_circuit1, None, 123), (isa_circuit2, None, 456)])"
   ]
  },
  {
   "cell_type": "markdown",
   "metadata": {},
   "source": [
    "For a full example, see the [Primitives examples](./primitives-examples#sampler-examples) page.\n",
    "\n",
    "## Next steps\n",
    "\n",
    "<Admonition type=\"tip\" title=\"Recommendations\">\n",
    "  *   For higher-performance simulation that can handle larger circuits, or to incorporate noise models into your simulation, see [Exact and noisy simulation with Qiskit Aer primitives](simulate-with-qiskit-aer).\n",
    "  *   To learn how to use Quantum Composer for simulation, see the [IBM Quantum Composer](/docs/guides/composer) guide.\n",
    "  *   Read the [Qiskit Estimator API](/docs/api/qiskit/1.4/qiskit.primitives.Estimator) reference.\n",
    "  *   Read the [Qiskit Sampler API](/docs/api/qiskit/1.4/qiskit.primitives.Sampler) reference.\n",
    "  *   Learn how to run on a QPU in the [Run](./execute-on-hardware) step of the Qiskit patterns workflow.\n",
    "  *   Read [Migrate to V2 primitives](/docs/migration-guides/v2-primitives).\n",
    "</Admonition>\n",
    "\n"
   ]
  },
  {
   "cell_type": "markdown",
   "metadata": {},
   "source": [
    "© IBM Corp., 2017-2025"
   ]
  }
 ],
 "metadata": {
  "description": "How to perform exact simulation of quantum circuits using primitives in Qiskit.",
  "kernelspec": {
   "display_name": "Python 3 (ipykernel)",
   "language": "python",
   "name": "python3"
  },
  "language_info": {
   "codemirror_mode": {
    "name": "ipython",
    "version": 3
   },
   "file_extension": ".py",
   "mimetype": "text/x-python",
   "name": "python",
   "nbconvert_exporter": "python",
   "pygments_lexer": "ipython3",
   "version": "3.12.4"
  },
  "title": "Exact simulation with Qiskit SDK primitives"
 },
 "nbformat": 4,
 "nbformat_minor": 4
}
